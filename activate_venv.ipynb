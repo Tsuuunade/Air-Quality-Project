{
 "cells": [
  {
   "cell_type": "code",
   "execution_count": null,
   "id": "c070c7b9",
   "metadata": {},
   "outputs": [],
   "source": [
    "# . .\\.venv\\Scripts\\activate"
   ]
  }
 ],
 "metadata": {
  "language_info": {
   "name": "python"
  }
 },
 "nbformat": 4,
 "nbformat_minor": 5
}
